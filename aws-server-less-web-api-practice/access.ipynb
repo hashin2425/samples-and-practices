{
 "cells": [
  {
   "cell_type": "code",
   "execution_count": 112,
   "metadata": {},
   "outputs": [
    {
     "name": "stdout",
     "output_type": "stream",
     "text": [
      "API_GATEWAY_URL:htt... LAMBDA_URL:htt... API_KEY:052...\n"
     ]
    }
   ],
   "source": [
    "# initialize\n",
    "import os\n",
    "import json\n",
    "import random\n",
    "\n",
    "import requests\n",
    "from pprint import pprint\n",
    "from dotenv import load_dotenv\n",
    "\n",
    "load_dotenv()\n",
    "\n",
    "API_GATEWAY_URL = os.getenv(\"API_GATEWAY_URL\", \"\")\n",
    "LAMBDA_URL = os.getenv(\"LAMBDA_URL\", \"\")\n",
    "API_KEY = os.getenv(\"API_KEY\", \"\")\n",
    "\n",
    "print(f\"API_GATEWAY_URL:{API_GATEWAY_URL[:3]}... LAMBDA_URL:{LAMBDA_URL[:3]}... API_KEY:{API_KEY[:3]}...\")"
   ]
  },
  {
   "cell_type": "code",
   "execution_count": 113,
   "metadata": {},
   "outputs": [
    {
     "name": "stdout",
     "output_type": "stream",
     "text": [
      "{\n",
      "    \"Message\": \"Forbidden\"\n",
      "}\n"
     ]
    }
   ],
   "source": [
    "# access Lambda function\n",
    "response = requests.get(LAMBDA_URL, headers={\"x-api-key\": API_KEY}, timeout=5)\n",
    "data = response.json()\n",
    "print(json.dumps(data, indent=4))"
   ]
  },
  {
   "cell_type": "code",
   "execution_count": 114,
   "metadata": {},
   "outputs": [
    {
     "name": "stdout",
     "output_type": "stream",
     "text": [
      "{\n",
      "    \"message\": \"2024-08-13 07:41:23\",\n",
      "    \"val\": \"52827\"\n",
      "}\n"
     ]
    }
   ],
   "source": [
    "# access Lambda function via API Gateway\n",
    "response = requests.get(API_GATEWAY_URL, headers={\"x-api-key\": API_KEY}, timeout=5)\n",
    "data = response.json()\n",
    "print(json.dumps(data, indent=4))"
   ]
  },
  {
   "cell_type": "code",
   "execution_count": 115,
   "metadata": {},
   "outputs": [
    {
     "name": "stdout",
     "output_type": "stream",
     "text": [
      "Sending random value: 79673\n",
      "<Response [200]> {\n",
      "    \"message\": \"2024-08-13 07:41:24\",\n",
      "    \"val\": \"79673\"\n",
      "}\n"
     ]
    }
   ],
   "source": [
    "# send random value to Lambda function via API Gateway\n",
    "rand = random.randint(10000, 99999)\n",
    "print(\"Sending random value:\", rand)\n",
    "\n",
    "response = requests.post(API_GATEWAY_URL, data=json.dumps({\"val\": rand}), headers={\"x-api-key\": API_KEY}, timeout=5)\n",
    "data = response.json()\n",
    "print(response, json.dumps(data, indent=4))"
   ]
  },
  {
   "cell_type": "code",
   "execution_count": 116,
   "metadata": {},
   "outputs": [
    {
     "name": "stdout",
     "output_type": "stream",
     "text": [
      "{\n",
      "    \"message\": \"2024-08-13 07:41:24\",\n",
      "    \"val\": \"79673\"\n",
      "}\n",
      "'79673'\n"
     ]
    }
   ],
   "source": [
    "# access Lambda function via API Gateway\n",
    "response = requests.get(API_GATEWAY_URL, headers={\"x-api-key\": API_KEY}, timeout=5)\n",
    "data = response.json()\n",
    "print(json.dumps(data, indent=4))\n",
    "pprint(data[\"val\"])"
   ]
  }
 ],
 "metadata": {
  "kernelspec": {
   "display_name": "free_env",
   "language": "python",
   "name": "python3"
  },
  "language_info": {
   "codemirror_mode": {
    "name": "ipython",
    "version": 3
   },
   "file_extension": ".py",
   "mimetype": "text/x-python",
   "name": "python",
   "nbconvert_exporter": "python",
   "pygments_lexer": "ipython3",
   "version": "3.11.3"
  }
 },
 "nbformat": 4,
 "nbformat_minor": 2
}
